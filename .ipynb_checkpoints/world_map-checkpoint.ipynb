{
 "cells": [
  {
   "cell_type": "code",
   "execution_count": 39,
   "id": "021a9734",
   "metadata": {
    "scrolled": false
   },
   "outputs": [],
   "source": [
    "import csv\n",
    "import folium\n",
    "import geopandas\n",
    "import pandas as pd\n",
    "from folium.plugins import FastMarkerCluster"
   ]
  },
  {
   "cell_type": "code",
   "execution_count": 2,
   "id": "d1b4554a",
   "metadata": {},
   "outputs": [],
   "source": [
    "def load_csv_file(csv_file):\n",
    "    content = []\n",
    "    with open(csv_file) as f:\n",
    "        reader = csv.DictReader(f)\n",
    "        for row in reader: \n",
    "            content.append(row)\n",
    "    return content "
   ]
  },
  {
   "cell_type": "code",
   "execution_count": 40,
   "id": "c0ad7356",
   "metadata": {},
   "outputs": [],
   "source": [
    "def create_map(csv_file, output_html):\n",
    "    mood_content = load_csv_file(csv_file)\n",
    "    \n",
    "    #classify each mood_content item in country locations\n",
    "    mood_location = {}\n",
    "    for item in mood_content:\n",
    "        if item['location'] not in mood_location:\n",
    "            mood_location[item['location']] = {\"Positive\":0, \"Negative\":0}\n",
    "        mood_location[item['location']][item['mood']] +=1\n",
    "    \n",
    "    \n",
    "    my_map = folium.Map()\n",
    "    \n",
    "    world = geopandas.read_file(geopandas.datasets.get_path('naturalearth_lowres'))\n",
    "    \n",
    "    country_names = []\n",
    "    moods = []\n",
    "    for country in mood_location:\n",
    "        mood = mood_location[country]['Positive']/(mood_location[country]['Positive'] + mood_location[country]['Negative'])\n",
    "        moods.append(mood)\n",
    "        country_names.append(country)\n",
    "        \n",
    "    data_to_plot = pd.DataFrame({'Country': country_names, 'Mood': moods})\n",
    "    \n",
    "    folium.Choropleth(\n",
    "        geo_data=world,\n",
    "        name='choropleth',\n",
    "        data=data_to_plot,\n",
    "        columns=['Country', 'Mood'],\n",
    "        key_on = 'feature.properties.name',\n",
    "        fill_color='YlGn',\n",
    "        fill_opacity=0.7,\n",
    "        line_opacity=0.2,\n",
    "        legend_name='Mood'\n",
    "    ).add_to(my_map)\n",
    "    \n",
    "    cluster_data = []\n",
    "    for row in mood_content:\n",
    "        if row['latitude'] !='':\n",
    "            cluster_data.append([float(row['latitude']), float(row['longitude'])])\n",
    "        \n",
    "    FastMarkerCluster(cluster_data).add_to(my_map)\n",
    "    \n",
    "    folium.LayerControl().add_to(my_map)\n",
    "    my_map.save(output_html)"
   ]
  },
  {
   "cell_type": "code",
   "execution_count": 41,
   "id": "fee0af4a",
   "metadata": {},
   "outputs": [],
   "source": [
    "create_map(\"tweet_mood_python.csv\", \"mood_python.html\")"
   ]
  },
  {
   "cell_type": "code",
   "execution_count": null,
   "id": "1f36a86f",
   "metadata": {},
   "outputs": [],
   "source": []
  }
 ],
 "metadata": {
  "kernelspec": {
   "display_name": "Python 3 (ipykernel)",
   "language": "python",
   "name": "python3"
  },
  "language_info": {
   "codemirror_mode": {
    "name": "ipython",
    "version": 3
   },
   "file_extension": ".py",
   "mimetype": "text/x-python",
   "name": "python",
   "nbconvert_exporter": "python",
   "pygments_lexer": "ipython3",
   "version": "3.10.5"
  }
 },
 "nbformat": 4,
 "nbformat_minor": 5
}
