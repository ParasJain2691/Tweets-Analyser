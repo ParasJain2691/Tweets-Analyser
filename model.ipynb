{
 "cells": [
  {
   "cell_type": "code",
   "execution_count": 41,
   "id": "bba76aa9",
   "metadata": {},
   "outputs": [],
   "source": [
    "from nltk.corpus import twitter_samples, stopwords\n",
    "from nltk import WordNetLemmatizer\n",
    "from nltk.tag import pos_tag\n",
    "from nltk import NaiveBayesClassifier, classify\n",
    "import random\n",
    "import pickle"
   ]
  },
  {
   "cell_type": "code",
   "execution_count": 39,
   "id": "a6b4c7c1",
   "metadata": {},
   "outputs": [],
   "source": [
    "def clean_data(token):\n",
    "    return [item.lower() for item in token if not item.startswith('@') and not item.startswith('http')]\n",
    "\n",
    "def lemmatize(token):\n",
    "    lemmatizer = WordNetLemmatizer()\n",
    "    \n",
    "    result = []\n",
    "    for item, tag in pos_tag(token):\n",
    "        if tag[0].lower() in \"nva\":\n",
    "            result.append(lemmatizer.lemmatize(item, tag[0].lower()))\n",
    "        else:\n",
    "            result.append(lemmatizer.lemmatize(item))\n",
    "    return result\n",
    "\n",
    "def remove_stop_words(token):\n",
    "    stop_words = stopwords.words('english')\n",
    "    return [item for item in token if item not in stop_words]\n",
    "\n",
    "def transform_features(token):\n",
    "    features_set = {}\n",
    "    for feature in token:\n",
    "        if feature not in features_set:\n",
    "            features_set[feature] = 0\n",
    "        features_set[feature] = 1\n",
    "    return features_set\n",
    "\n",
    "def main():\n",
    "                       #Gather Data\n",
    "    positive_tweets =  twitter_samples.tokenized('positive_tweets.json')\n",
    "    negative_tweets =  twitter_samples.tokenized('negative_tweets.json')\n",
    "    \n",
    "                        #Cleaning, Lemmatization and remove stop words\n",
    "    positive_tweets = [remove_stop_words(lemmatize(clean_data(item))) for item in positive_tweets]\n",
    "    negative_tweets = [remove_stop_words(lemmatize(clean_data(item))) for item in negative_tweets]\n",
    "    \n",
    "    \n",
    "    \n",
    "                        #Transform Data\n",
    "    positive_tweets = [(transform_features(token), \"Positive\") for token in positive_tweets]\n",
    "    negative_tweets = [(transform_features(token), \"Negative\") for token in negative_tweets]\n",
    "    print(positive_tweets[:5])\n",
    "    print(\"{{{{{{{{{{}}}}}}}}}}\")\n",
    "    print(negative_tweets[:5])\n",
    "    \n",
    "    \n",
    "                        #Create Dataset\n",
    "    dataset = positive_tweets + negative_tweets\n",
    "    random.shuffle(dataset)\n",
    "    \n",
    "    training_data = dataset[:7000]\n",
    "    test_data = dataset[7000:]\n",
    "    \n",
    "                        #Traning \n",
    "    classifier =  NaiveBayesClassifier.train(training_data) \n",
    "    print(\"Accuracy\", classify.accuracy(classifier, test_data))\n",
    "    print(classifier.show_most_informative_features(10))\n",
    "    \n",
    "    with open(\"model.pkl\", \"wb\") as f:\n",
    "        pickle.dump(classifier, f)"
   ]
  },
  {
   "cell_type": "code",
   "execution_count": 40,
   "id": "b3913839",
   "metadata": {
    "scrolled": true
   },
   "outputs": [
    {
     "name": "stdout",
     "output_type": "stream",
     "text": [
      "[({'#followfriday': 1, 'top': 1, 'engage': 1, 'member': 1, 'community': 1, 'week': 1, ':)': 1}, 'Positive'), ({'hey': 1, 'james': 1, '!': 1, 'odd': 1, ':/': 1, 'please': 1, 'call': 1, 'contact': 1, 'centre': 1, '02392441234': 1, 'able': 1, 'assist': 1, ':)': 1, 'many': 1, 'thanks': 1}, 'Positive'), ({'listen': 1, 'last': 1, 'night': 1, ':)': 1, 'bleed': 1, 'amazing': 1, 'track': 1, '.': 1, 'scotland': 1, '?': 1, '!': 1}, 'Positive'), ({'congrats': 1, ':)': 1}, 'Positive'), ({'yeaaaah': 1, 'yippppy': 1, '!': 1, 'accnt': 1, 'verify': 1, 'rqst': 1, 'succeed': 1, 'get': 1, 'blue': 1, 'tick': 1, 'mark': 1, 'fb': 1, 'profile': 1, ':)': 1, '15': 1, 'day': 1}, 'Positive')]\n",
      "{{{{{{{{{{}}}}}}}}}}\n",
      "[({'hopeless': 1, 'tmr': 1, ':(': 1}, 'Negative'), ({'everything': 1, 'kid': 1, 'section': 1, 'ikea': 1, 'cute': 1, '.': 1, 'shame': 1, \"i'm\": 1, 'nearly': 1, '19': 1, '2': 1, 'month': 1, ':(': 1}, 'Negative'), ({'heart': 1, 'slide': 1, 'waste': 1, 'basket': 1, '.': 1, ':(': 1}, 'Negative'), ({'“': 1, ':': 1, 'hate': 1, 'japanese': 1, 'call': 1, '\"': 1, 'ban': 1, ':(': 1, '”': 1}, 'Negative'), ({'dang': 1, 'start': 1, 'next': 1, 'week': 1, '\"': 1, 'work': 1, ':(': 1}, 'Negative')]\n",
      "Accuracy 0.9993333333333333\n",
      "Most Informative Features\n",
      "                      :( = 1              Negati : Positi =   2061.0 : 1.0\n",
      "                      :) = 1              Positi : Negati =   1674.1 : 1.0\n",
      "                follower = 1              Positi : Negati =     37.3 : 1.0\n",
      "                 welcome = 1              Positi : Negati =     24.0 : 1.0\n",
      "                     sad = 1              Negati : Positi =     18.9 : 1.0\n",
      "                     bam = 1              Positi : Negati =     18.5 : 1.0\n",
      "                  arrive = 1              Positi : Negati =     14.5 : 1.0\n",
      "                     via = 1              Positi : Negati =     13.8 : 1.0\n",
      "                    glad = 1              Positi : Negati =     13.1 : 1.0\n",
      "               goodnight = 1              Positi : Negati =     13.1 : 1.0\n",
      "None\n"
     ]
    }
   ],
   "source": [
    "main()"
   ]
  },
  {
   "cell_type": "code",
   "execution_count": null,
   "id": "6fbd3ee8",
   "metadata": {},
   "outputs": [],
   "source": [
    " "
   ]
  }
 ],
 "metadata": {
  "kernelspec": {
   "display_name": "Python 3 (ipykernel)",
   "language": "python",
   "name": "python3"
  },
  "language_info": {
   "codemirror_mode": {
    "name": "ipython",
    "version": 3
   },
   "file_extension": ".py",
   "mimetype": "text/x-python",
   "name": "python",
   "nbconvert_exporter": "python",
   "pygments_lexer": "ipython3",
   "version": "3.10.4"
  }
 },
 "nbformat": 4,
 "nbformat_minor": 5
}
